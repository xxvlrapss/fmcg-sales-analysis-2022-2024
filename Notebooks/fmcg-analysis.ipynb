{
 "cells": [
  {
   "cell_type": "code",
   "execution_count": 26,
   "id": "001b03de-79b0-47d5-8d44-2674a167db13",
   "metadata": {},
   "outputs": [],
   "source": [
    "import pandas as pd\n",
    "import sqlalchemy as sal\n",
    "from sqlalchemy import create_engine"
   ]
  },
  {
   "cell_type": "code",
   "execution_count": 27,
   "id": "d5f0fa7c-cf29-46b1-96e7-52a09f9c100d",
   "metadata": {},
   "outputs": [],
   "source": [
    "df = pd.read_csv('FMCG_2022_2024.csv')"
   ]
  },
  {
   "cell_type": "code",
   "execution_count": 15,
   "id": "9d8cf7f7-3bfd-4c73-8d61-877978f87e1b",
   "metadata": {},
   "outputs": [
    {
     "data": {
      "text/html": [
       "<div>\n",
       "<style scoped>\n",
       "    .dataframe tbody tr th:only-of-type {\n",
       "        vertical-align: middle;\n",
       "    }\n",
       "\n",
       "    .dataframe tbody tr th {\n",
       "        vertical-align: top;\n",
       "    }\n",
       "\n",
       "    .dataframe thead th {\n",
       "        text-align: right;\n",
       "    }\n",
       "</style>\n",
       "<table border=\"1\" class=\"dataframe\">\n",
       "  <thead>\n",
       "    <tr style=\"text-align: right;\">\n",
       "      <th></th>\n",
       "      <th>date</th>\n",
       "      <th>sku</th>\n",
       "      <th>brand</th>\n",
       "      <th>segment</th>\n",
       "      <th>category</th>\n",
       "      <th>channel</th>\n",
       "      <th>region</th>\n",
       "      <th>pack_type</th>\n",
       "      <th>price_unit</th>\n",
       "      <th>promotion_flag</th>\n",
       "      <th>delivery_days</th>\n",
       "      <th>stock_available</th>\n",
       "      <th>delivered_qty</th>\n",
       "      <th>units_sold</th>\n",
       "    </tr>\n",
       "  </thead>\n",
       "  <tbody>\n",
       "    <tr>\n",
       "      <th>0</th>\n",
       "      <td>2022-01-21</td>\n",
       "      <td>MI-006</td>\n",
       "      <td>MiBrand1</td>\n",
       "      <td>Milk-Seg3</td>\n",
       "      <td>Milk</td>\n",
       "      <td>Retail</td>\n",
       "      <td>PL-Central</td>\n",
       "      <td>Multipack</td>\n",
       "      <td>2.38</td>\n",
       "      <td>0</td>\n",
       "      <td>1</td>\n",
       "      <td>141</td>\n",
       "      <td>128</td>\n",
       "      <td>9</td>\n",
       "    </tr>\n",
       "    <tr>\n",
       "      <th>1</th>\n",
       "      <td>2022-01-21</td>\n",
       "      <td>MI-006</td>\n",
       "      <td>MiBrand1</td>\n",
       "      <td>Milk-Seg3</td>\n",
       "      <td>Milk</td>\n",
       "      <td>Retail</td>\n",
       "      <td>PL-North</td>\n",
       "      <td>Single</td>\n",
       "      <td>1.55</td>\n",
       "      <td>1</td>\n",
       "      <td>3</td>\n",
       "      <td>0</td>\n",
       "      <td>129</td>\n",
       "      <td>0</td>\n",
       "    </tr>\n",
       "    <tr>\n",
       "      <th>2</th>\n",
       "      <td>2022-01-21</td>\n",
       "      <td>MI-006</td>\n",
       "      <td>MiBrand1</td>\n",
       "      <td>Milk-Seg3</td>\n",
       "      <td>Milk</td>\n",
       "      <td>Retail</td>\n",
       "      <td>PL-South</td>\n",
       "      <td>Carton</td>\n",
       "      <td>4.00</td>\n",
       "      <td>0</td>\n",
       "      <td>5</td>\n",
       "      <td>118</td>\n",
       "      <td>161</td>\n",
       "      <td>8</td>\n",
       "    </tr>\n",
       "    <tr>\n",
       "      <th>3</th>\n",
       "      <td>2022-01-21</td>\n",
       "      <td>MI-006</td>\n",
       "      <td>MiBrand1</td>\n",
       "      <td>Milk-Seg3</td>\n",
       "      <td>Milk</td>\n",
       "      <td>Discount</td>\n",
       "      <td>PL-Central</td>\n",
       "      <td>Single</td>\n",
       "      <td>5.16</td>\n",
       "      <td>0</td>\n",
       "      <td>2</td>\n",
       "      <td>81</td>\n",
       "      <td>114</td>\n",
       "      <td>7</td>\n",
       "    </tr>\n",
       "    <tr>\n",
       "      <th>4</th>\n",
       "      <td>2022-01-21</td>\n",
       "      <td>MI-006</td>\n",
       "      <td>MiBrand1</td>\n",
       "      <td>Milk-Seg3</td>\n",
       "      <td>Milk</td>\n",
       "      <td>Discount</td>\n",
       "      <td>PL-North</td>\n",
       "      <td>Single</td>\n",
       "      <td>7.66</td>\n",
       "      <td>0</td>\n",
       "      <td>4</td>\n",
       "      <td>148</td>\n",
       "      <td>204</td>\n",
       "      <td>12</td>\n",
       "    </tr>\n",
       "  </tbody>\n",
       "</table>\n",
       "</div>"
      ],
      "text/plain": [
       "         date     sku     brand    segment category   channel      region  \\\n",
       "0  2022-01-21  MI-006  MiBrand1  Milk-Seg3     Milk    Retail  PL-Central   \n",
       "1  2022-01-21  MI-006  MiBrand1  Milk-Seg3     Milk    Retail    PL-North   \n",
       "2  2022-01-21  MI-006  MiBrand1  Milk-Seg3     Milk    Retail    PL-South   \n",
       "3  2022-01-21  MI-006  MiBrand1  Milk-Seg3     Milk  Discount  PL-Central   \n",
       "4  2022-01-21  MI-006  MiBrand1  Milk-Seg3     Milk  Discount    PL-North   \n",
       "\n",
       "   pack_type  price_unit  promotion_flag  delivery_days  stock_available  \\\n",
       "0  Multipack        2.38               0              1              141   \n",
       "1     Single        1.55               1              3                0   \n",
       "2     Carton        4.00               0              5              118   \n",
       "3     Single        5.16               0              2               81   \n",
       "4     Single        7.66               0              4              148   \n",
       "\n",
       "   delivered_qty  units_sold  \n",
       "0            128           9  \n",
       "1            129           0  \n",
       "2            161           8  \n",
       "3            114           7  \n",
       "4            204          12  "
      ]
     },
     "execution_count": 15,
     "metadata": {},
     "output_type": "execute_result"
    }
   ],
   "source": [
    "df.head()"
   ]
  },
  {
   "cell_type": "code",
   "execution_count": 16,
   "id": "2ef0a0fa-fc3a-4f37-8f2a-cf9c63645eb9",
   "metadata": {},
   "outputs": [
    {
     "name": "stdout",
     "output_type": "stream",
     "text": [
      "<class 'pandas.core.frame.DataFrame'>\n",
      "RangeIndex: 190757 entries, 0 to 190756\n",
      "Data columns (total 14 columns):\n",
      " #   Column           Non-Null Count   Dtype  \n",
      "---  ------           --------------   -----  \n",
      " 0   date             190757 non-null  object \n",
      " 1   sku              190757 non-null  object \n",
      " 2   brand            190757 non-null  object \n",
      " 3   segment          190757 non-null  object \n",
      " 4   category         190757 non-null  object \n",
      " 5   channel          190757 non-null  object \n",
      " 6   region           190757 non-null  object \n",
      " 7   pack_type        190757 non-null  object \n",
      " 8   price_unit       190757 non-null  float64\n",
      " 9   promotion_flag   190757 non-null  int64  \n",
      " 10  delivery_days    190757 non-null  int64  \n",
      " 11  stock_available  190757 non-null  int64  \n",
      " 12  delivered_qty    190757 non-null  int64  \n",
      " 13  units_sold       190757 non-null  int64  \n",
      "dtypes: float64(1), int64(5), object(8)\n",
      "memory usage: 20.4+ MB\n"
     ]
    }
   ],
   "source": [
    "df.info()"
   ]
  },
  {
   "cell_type": "code",
   "execution_count": 17,
   "id": "33e56d0e-68cb-4f83-bc5b-e98d05898f49",
   "metadata": {},
   "outputs": [
    {
     "data": {
      "text/plain": [
       "Index(['date', 'sku', 'brand', 'segment', 'category', 'channel', 'region',\n",
       "       'pack_type', 'price_unit', 'promotion_flag', 'delivery_days',\n",
       "       'stock_available', 'delivered_qty', 'units_sold'],\n",
       "      dtype='object')"
      ]
     },
     "execution_count": 17,
     "metadata": {},
     "output_type": "execute_result"
    }
   ],
   "source": [
    "df.columns"
   ]
  },
  {
   "cell_type": "markdown",
   "id": "2528a526-af19-4f96-a57a-78ff748656f7",
   "metadata": {},
   "source": [
    "# Data Cleaning & Preparation"
   ]
  },
  {
   "cell_type": "code",
   "execution_count": 18,
   "id": "602e00d0-a0fb-47b1-9394-4ba72a16c256",
   "metadata": {},
   "outputs": [],
   "source": [
    "df['date'] = pd.to_datetime(df['date'])"
   ]
  },
  {
   "cell_type": "code",
   "execution_count": 19,
   "id": "b54923ab-0b69-486c-929d-2bfefd80b351",
   "metadata": {},
   "outputs": [
    {
     "data": {
      "text/plain": [
       "date               0\n",
       "sku                0\n",
       "brand              0\n",
       "segment            0\n",
       "category           0\n",
       "channel            0\n",
       "region             0\n",
       "pack_type          0\n",
       "price_unit         0\n",
       "promotion_flag     0\n",
       "delivery_days      0\n",
       "stock_available    0\n",
       "delivered_qty      0\n",
       "units_sold         0\n",
       "dtype: int64"
      ]
     },
     "execution_count": 19,
     "metadata": {},
     "output_type": "execute_result"
    }
   ],
   "source": [
    "df.isna().sum()"
   ]
  },
  {
   "cell_type": "code",
   "execution_count": 20,
   "id": "2fda8643-d8e0-49cf-8843-1776f3b9db55",
   "metadata": {},
   "outputs": [
    {
     "name": "stdout",
     "output_type": "stream",
     "text": [
      "brand 14 ['MiBrand1' 'MiBrand4' 'YoBrand4' 'YoBrand2' 'YoBrand1']\n",
      "segment 13 ['Milk-Seg3' 'Milk-Seg2' 'Yogurt-Seg2' 'Yogurt-Seg1' 'Yogurt-Seg3']\n",
      "category 5 ['Milk' 'Yogurt' 'ReadyMeal' 'Juice' 'SnackBar']\n",
      "channel 3 ['Retail' 'Discount' 'E-commerce']\n",
      "region 3 ['PL-Central' 'PL-North' 'PL-South']\n",
      "pack_type 3 ['Multipack' 'Single' 'Carton']\n"
     ]
    }
   ],
   "source": [
    "for col in ['brand','segment','category','channel','region','pack_type']:\n",
    "    print(col, df[col].nunique(), df[col].unique()[:5])"
   ]
  },
  {
   "cell_type": "markdown",
   "id": "8f51a338-5ac2-474d-8a87-267d17b83d72",
   "metadata": {},
   "source": [
    "# Feature Engineering"
   ]
  },
  {
   "cell_type": "code",
   "execution_count": 21,
   "id": "5720f153-f1cc-42dd-a5ba-78eb700ff439",
   "metadata": {},
   "outputs": [],
   "source": [
    "df['revenue'] = df['price_unit'] * df['units_sold']\n",
    "df['promotion_flag'] = df['promotion_flag'].map({0:'No',1:'Yes'})"
   ]
  },
  {
   "cell_type": "code",
   "execution_count": 22,
   "id": "076b933e-fcf7-41bb-9adf-3acfee3684c7",
   "metadata": {},
   "outputs": [
    {
     "data": {
      "text/html": [
       "<div>\n",
       "<style scoped>\n",
       "    .dataframe tbody tr th:only-of-type {\n",
       "        vertical-align: middle;\n",
       "    }\n",
       "\n",
       "    .dataframe tbody tr th {\n",
       "        vertical-align: top;\n",
       "    }\n",
       "\n",
       "    .dataframe thead th {\n",
       "        text-align: right;\n",
       "    }\n",
       "</style>\n",
       "<table border=\"1\" class=\"dataframe\">\n",
       "  <thead>\n",
       "    <tr style=\"text-align: right;\">\n",
       "      <th></th>\n",
       "      <th>date</th>\n",
       "      <th>sku</th>\n",
       "      <th>brand</th>\n",
       "      <th>segment</th>\n",
       "      <th>category</th>\n",
       "      <th>channel</th>\n",
       "      <th>region</th>\n",
       "      <th>pack_type</th>\n",
       "      <th>price_unit</th>\n",
       "      <th>promotion_flag</th>\n",
       "      <th>delivery_days</th>\n",
       "      <th>stock_available</th>\n",
       "      <th>delivered_qty</th>\n",
       "      <th>units_sold</th>\n",
       "      <th>revenue</th>\n",
       "    </tr>\n",
       "  </thead>\n",
       "  <tbody>\n",
       "  </tbody>\n",
       "</table>\n",
       "</div>"
      ],
      "text/plain": [
       "Empty DataFrame\n",
       "Columns: [date, sku, brand, segment, category, channel, region, pack_type, price_unit, promotion_flag, delivery_days, stock_available, delivered_qty, units_sold, revenue]\n",
       "Index: []"
      ]
     },
     "execution_count": 22,
     "metadata": {},
     "output_type": "execute_result"
    }
   ],
   "source": [
    "df[df['units_sold'] > df['delivered_qty']]\n",
    "df[df['price_unit'] <= 0]"
   ]
  },
  {
   "cell_type": "markdown",
   "id": "85d843af-0836-48aa-9117-9fcd93614649",
   "metadata": {},
   "source": [
    "# Load the data into sql server using replace option"
   ]
  },
  {
   "cell_type": "code",
   "execution_count": 29,
   "id": "2e507b6d-f093-4e8b-81ab-bb62f34ac274",
   "metadata": {},
   "outputs": [],
   "source": [
    "engine = sal.create_engine(\n",
    "    \"mssql+pyodbc://@DESKTOP-RAQ39CC\\\\SQLEXPRESS/fmcg_sales?driver=ODBC+Driver+17+for+SQL+Server&trusted_connection=yes\"\n",
    ")\n",
    "conn = engine.connect()"
   ]
  },
  {
   "cell_type": "code",
   "execution_count": 30,
   "id": "1db941b5-ee01-412d-a3bb-dc485fd4196f",
   "metadata": {},
   "outputs": [
    {
     "data": {
      "text/plain": [
       "37"
      ]
     },
     "execution_count": 30,
     "metadata": {},
     "output_type": "execute_result"
    }
   ],
   "source": [
    "# simpan dataframe ke tabel bernama \"daily_sales\" di schema dbo\n",
    "df.to_sql(\n",
    "    'daily_sales',    # nama tabel di SQL Server\n",
    "    con=conn,\n",
    "    schema='dbo',     # schema default biasanya dbo\n",
    "    index=False,\n",
    "    if_exists='replace'   # replace (buat ulang), atau append (tambah data)\n",
    ")"
   ]
  }
 ],
 "metadata": {
  "kernelspec": {
   "display_name": "Python 3 (ipykernel)",
   "language": "python",
   "name": "python3"
  },
  "language_info": {
   "codemirror_mode": {
    "name": "ipython",
    "version": 3
   },
   "file_extension": ".py",
   "mimetype": "text/x-python",
   "name": "python",
   "nbconvert_exporter": "python",
   "pygments_lexer": "ipython3",
   "version": "3.10.6"
  }
 },
 "nbformat": 4,
 "nbformat_minor": 5
}
